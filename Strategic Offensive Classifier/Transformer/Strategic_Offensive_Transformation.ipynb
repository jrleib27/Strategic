{
 "cells": [
  {
   "cell_type": "code",
   "execution_count": 1,
   "metadata": {},
   "outputs": [],
   "source": [
    "import pandas as pd\n",
    "import numpy as np"
   ]
  },
  {
   "cell_type": "code",
   "execution_count": 2,
   "metadata": {},
   "outputs": [
    {
     "name": "stdout",
     "output_type": "stream",
     "text": [
      "15531\n",
      "15531\n",
      "Index(['unique_round_id', 'ending_round', 'ending_time', 'fighter_name',\n",
      "       'round_number', 'knockdowns', 'submission_attempts', 'takedowns',\n",
      "       'takedowns_attempted', 'significant_strikes_head_landed',\n",
      "       'significant_strikes_head_attempted', 'significant_strikes_body_landed',\n",
      "       'significant_strikes_body_attempted', 'significant_strikes_leg_landed',\n",
      "       'significant_strikes_leg_attempted', 'fighter_control_time',\n",
      "       'opponent_control_time'],\n",
      "      dtype='object')\n"
     ]
    }
   ],
   "source": [
    "loser = pd.read_csv('loser.csv')\n",
    "winner = pd.read_csv('winner.csv')\n",
    "\n",
    "#print(loser.head())\n",
    "print(len(loser.index))\n",
    "#print(winner.head())\n",
    "print(len(winner.index))\n",
    "\n",
    "print(winner.columns)"
   ]
  },
  {
   "cell_type": "code",
   "execution_count": 3,
   "metadata": {},
   "outputs": [
    {
     "name": "stdout",
     "output_type": "stream",
     "text": [
      "31062\n"
     ]
    }
   ],
   "source": [
    "df = pd.concat([winner,loser],axis=0)\n",
    "df.to_csv('output.csv',index=False)\n",
    "#print(df.head())\n",
    "print(len(df.index))"
   ]
  },
  {
   "cell_type": "code",
   "execution_count": 4,
   "metadata": {},
   "outputs": [
    {
     "name": "stderr",
     "output_type": "stream",
     "text": [
      "c:\\users\\jason\\appdata\\local\\programs\\python\\python37-32\\lib\\site-packages\\pandas\\core\\indexing.py:190: SettingWithCopyWarning: \n",
      "A value is trying to be set on a copy of a slice from a DataFrame\n",
      "\n",
      "See the caveats in the documentation: http://pandas.pydata.org/pandas-docs/stable/indexing.html#indexing-view-versus-copy\n",
      "  self._setitem_with_indexer(indexer, value)\n"
     ]
    }
   ],
   "source": [
    "#fixing control time\n",
    "df.fighter_control_time.loc[df['fighter_control_time']=='--']='0:00'\n",
    "df.fighter_control_time=df.fighter_control_time.fillna('6:00')\n",
    "df['seconds']=df.fighter_control_time.str.split(':',expand=True)[1]\n",
    "df['minute']=df.fighter_control_time.str.split(':',expand=True)[0]\n",
    "\n",
    "#changing data types\n",
    "df['minute']=df.minute.astype(np.int64)\n",
    "df['seconds']=df.seconds.astype(np.int64)\n",
    "df['fighter_control_time']=df.seconds+(df.minute*60)\n",
    "\n",
    "#dropping extra\n",
    "df=df.drop(columns=['seconds','minute'])"
   ]
  },
  {
   "cell_type": "code",
   "execution_count": 5,
   "metadata": {},
   "outputs": [],
   "source": [
    "#fixing control time\n",
    "df.opponent_control_time.loc[df['opponent_control_time']=='--']='0:00'\n",
    "df.opponent_control_time=df.opponent_control_time.fillna('6:00')\n",
    "df['seconds']=df.opponent_control_time.str.split(':',expand=True)[1]\n",
    "df['minute']=df.opponent_control_time.str.split(':',expand=True)[0]\n",
    "\n",
    "#changing data types\n",
    "df['minute']=df.minute.astype(np.int64)\n",
    "df['seconds']=df.seconds.astype(np.int64)\n",
    "df['opponent_control_time']=df.seconds+(df.minute*60)\n",
    "\n",
    "#dropping extra\n",
    "df=df.drop(columns=['seconds','minute'])"
   ]
  },
  {
   "cell_type": "code",
   "execution_count": 6,
   "metadata": {},
   "outputs": [],
   "source": [
    "#fixing control time\n",
    "df.ending_time.loc[df['ending_time']=='--']='0:00'\n",
    "df.ending_time=df.ending_time.fillna('6:00')\n",
    "df['seconds']=df.ending_time.str.split(':',expand=True)[1]\n",
    "df['minute']=df.ending_time.str.split(':',expand=True)[0]\n",
    "\n",
    "#changing data types\n",
    "df['minute']=df.minute.astype(np.int64)\n",
    "df['seconds']=df.seconds.astype(np.int64)\n",
    "df['ending_time']=df.seconds+(df.minute*60)\n",
    "\n",
    "#dropping extra\n",
    "df=df.drop(columns=['seconds','minute'])"
   ]
  },
  {
   "cell_type": "code",
   "execution_count": 7,
   "metadata": {},
   "outputs": [
    {
     "name": "stdout",
     "output_type": "stream",
     "text": [
      "22472\n"
     ]
    }
   ],
   "source": [
    "#there are 6308 missing values that I replaced with 6:00 since it is impossible may need to filter on this in the future because it will mess up reslts\n",
    "\n",
    "#print(df.fighter_control_time.value_counts())\n",
    "#print(df.ending_time.value_counts())\n",
    "#print(df.opponent_control_time.value_counts())\n",
    "\n",
    "#pulling out 360 since they are nulls\n",
    "df=df.loc[df['fighter_control_time']!=360]\n",
    "df=df.loc[df['ending_time']!=360]\n",
    "df=df.loc[df['opponent_control_time']!=360]\n",
    "print(len(df.index))\n",
    "\n",
    "#print(df.fighter_control_time.value_counts())\n",
    "#print(df.ending_time.value_counts())\n",
    "#print(df.opponent_control_time.value_counts())"
   ]
  },
  {
   "cell_type": "code",
   "execution_count": 8,
   "metadata": {},
   "outputs": [],
   "source": [
    "#print(df.columns)\n",
    "\n",
    "###need to create standing time column\n",
    "\n",
    "#separating frames\n",
    "full=df.loc[df['ending_round']!=df['round_number']]\n",
    "partial=df.loc[df['ending_round']==df['round_number']]"
   ]
  },
  {
   "cell_type": "code",
   "execution_count": 9,
   "metadata": {},
   "outputs": [
    {
     "name": "stderr",
     "output_type": "stream",
     "text": [
      "c:\\users\\jason\\appdata\\local\\programs\\python\\python37-32\\lib\\site-packages\\ipykernel_launcher.py:2: SettingWithCopyWarning: \n",
      "A value is trying to be set on a copy of a slice from a DataFrame.\n",
      "Try using .loc[row_indexer,col_indexer] = value instead\n",
      "\n",
      "See the caveats in the documentation: http://pandas.pydata.org/pandas-docs/stable/indexing.html#indexing-view-versus-copy\n",
      "  \n",
      "c:\\users\\jason\\appdata\\local\\programs\\python\\python37-32\\lib\\site-packages\\ipykernel_launcher.py:3: SettingWithCopyWarning: \n",
      "A value is trying to be set on a copy of a slice from a DataFrame.\n",
      "Try using .loc[row_indexer,col_indexer] = value instead\n",
      "\n",
      "See the caveats in the documentation: http://pandas.pydata.org/pandas-docs/stable/indexing.html#indexing-view-versus-copy\n",
      "  This is separate from the ipykernel package so we can avoid doing imports until\n"
     ]
    }
   ],
   "source": [
    "#doing the math\n",
    "full['standing_time']=300-full['fighter_control_time']-full['opponent_control_time']\n",
    "partial['standing_time']=partial['ending_time']-partial['fighter_control_time']-partial['opponent_control_time']"
   ]
  },
  {
   "cell_type": "code",
   "execution_count": 10,
   "metadata": {},
   "outputs": [
    {
     "name": "stdout",
     "output_type": "stream",
     "text": [
      "22472\n"
     ]
    }
   ],
   "source": [
    "#reforming data frame\n",
    "df_fixed = pd.concat([full,partial],axis=0)\n",
    "\n",
    "print(len(df_fixed.index))"
   ]
  },
  {
   "cell_type": "code",
   "execution_count": 11,
   "metadata": {},
   "outputs": [
    {
     "name": "stdout",
     "output_type": "stream",
     "text": [
      "20314\n"
     ]
    }
   ],
   "source": [
    "#creating total round time column\n",
    "df_fixed['total_round_time']=df_fixed['standing_time']+df_fixed['fighter_control_time']+df_fixed['opponent_control_time']\n",
    "df_fixed=df_fixed.loc[df_fixed['total_round_time']>=150]\n",
    "\n",
    "time = df_fixed[['total_round_time','unique_round_id']]\n",
    "\n",
    "print(len(df_fixed.index))"
   ]
  },
  {
   "cell_type": "code",
   "execution_count": 12,
   "metadata": {},
   "outputs": [],
   "source": [
    "#grappling time\n",
    "df_fixed['grappling_time']=df_fixed['fighter_control_time']+df_fixed['opponent_control_time']"
   ]
  },
  {
   "cell_type": "code",
   "execution_count": 13,
   "metadata": {},
   "outputs": [],
   "source": [
    "#% control vs controlled\n",
    "df_fixed['%_grappling_control']=df_fixed['fighter_control_time']/df_fixed['total_round_time']\n",
    "df_fixed['%_grappling_controlled']=df_fixed['opponent_control_time']/df_fixed['total_round_time']"
   ]
  },
  {
   "cell_type": "code",
   "execution_count": 14,
   "metadata": {},
   "outputs": [],
   "source": [
    "#ratio of time spent\n",
    "df_fixed['%_time_standing']=df_fixed['standing_time']/df_fixed['total_round_time']\n",
    "df_fixed['%_time_grappling']=df_fixed['grappling_time']/df_fixed['total_round_time']"
   ]
  },
  {
   "cell_type": "code",
   "execution_count": 15,
   "metadata": {},
   "outputs": [],
   "source": [
    "#ratio of strikes by time\n",
    "#df_fixed['standing_attempts_per_standing']=df_fixed['significant_strikes_standing_attempted']/df_fixed['total_round_time']\n",
    "#df_fixed['grappling_attempts_per_grappling']=(df_fixed['significant_strikes_clinch_attempted']+df_fixed['significant_strikes_ground_attempted'])/df_fixed['total_round_time']\n",
    "\n",
    "df_fixed=df_fixed.replace(np.inf,0)\n",
    "df_fixed=df_fixed.fillna(0)\n",
    "\n",
    "#strike mix\n",
    "#df_fixed['standing_strikes_mix']=df_fixed['standing_attempts_per_standing']/(df_fixed['standing_attempts_per_standing']+df_fixed['grappling_attempts_per_grappling'])\n",
    "#df_fixed['grappling_strikes_mix']=df_fixed['grappling_attempts_per_grappling']/(df_fixed['standing_attempts_per_standing']+df_fixed['grappling_attempts_per_grappling'])\n",
    "#df_fixed['standing_strikes_mix']=df_fixed['significant_strikes_standing_attempted']/((df_fixed['significant_strikes_clinch_attempted']+df_fixed['significant_strikes_ground_attempted'])+df_fixed['significant_strikes_standing_attempted'])\n",
    "#df_fixed['grappling_strikes_mix']=(df_fixed['significant_strikes_clinch_attempted']+df_fixed['significant_strikes_ground_attempted'])/(df_fixed['significant_strikes_standing_attempted']+(df_fixed['significant_strikes_clinch_attempted']+df_fixed['significant_strikes_ground_attempted']))"
   ]
  },
  {
   "cell_type": "code",
   "execution_count": 16,
   "metadata": {},
   "outputs": [
    {
     "name": "stdout",
     "output_type": "stream",
     "text": [
      "Index(['unique_round_id', 'ending_round', 'ending_time', 'fighter_name',\n",
      "       'round_number', 'knockdowns', 'submission_attempts', 'takedowns',\n",
      "       'takedowns_attempted', 'significant_strikes_head_landed',\n",
      "       'significant_strikes_head_attempted', 'significant_strikes_body_landed',\n",
      "       'significant_strikes_body_attempted', 'significant_strikes_leg_landed',\n",
      "       'significant_strikes_leg_attempted', 'fighter_control_time',\n",
      "       'opponent_control_time', 'standing_time', 'total_round_time',\n",
      "       'grappling_time', '%_grappling_control', '%_grappling_controlled',\n",
      "       '%_time_standing', '%_time_grappling'],\n",
      "      dtype='object')\n"
     ]
    }
   ],
   "source": [
    "print(df_fixed.columns)"
   ]
  },
  {
   "cell_type": "code",
   "execution_count": 17,
   "metadata": {},
   "outputs": [
    {
     "name": "stdout",
     "output_type": "stream",
     "text": [
      "   unique_round_id  %_grappling_control  %_time_standing\n",
      "0           1350.0             0.003333         0.996667\n",
      "2            248.0             0.293333         0.660000\n",
      "3            250.0             0.203333         0.763333\n",
      "5          10434.0             0.483333         0.500000\n",
      "7           7356.0             0.000000         1.000000\n"
     ]
    }
   ],
   "source": [
    "#some data comes out null and with infinites, replacing with 0\n",
    "df_fixed=df_fixed.fillna(0)\n",
    "df_fixed=df_fixed.replace(np.inf,0)\n",
    "\n",
    "df_fixed=df_fixed[['unique_round_id','%_grappling_control','%_time_standing']]\n",
    "\n",
    "df_fixed.to_csv('Modeling/modeling.csv',index=False)\n",
    "print(df_fixed.head())"
   ]
  },
  {
   "cell_type": "code",
   "execution_count": 18,
   "metadata": {},
   "outputs": [],
   "source": [
    "comparer=pd.read_csv('winner_comparer.csv')\n",
    "comparer=comparer.merge(time, on='unique_round_id',how='inner')\n",
    "comparer=comparer[['unique_round_id','total_round_time','knockdowns', 'total_strikes_landed',\n",
    "       'total_strikes_attempted', 'takedowns', 'takedowns_attempted',\n",
    "       'submission_attempts', 'control_time', 'reversals', 'guard_passes',\n",
    "       'significant_strikes_head_landed', 'significant_strikes_head_attempted',\n",
    "       'significant_strikes_body_landed', 'significant_strikes_body_attempted',\n",
    "       'significant_strikes_leg_landed', 'significant_strikes_leg_attempted',\n",
    "       'significant_strikes_standing_landed',\n",
    "       'significant_strikes_standing_attempted',\n",
    "       'significant_strikes_clinch_landed',\n",
    "       'significant_strikes_clinch_attempted',\n",
    "       'significant_strikes_ground_landed',\n",
    "       'significant_strikes_ground_attempted']]\n",
    "\n",
    "comparer.to_csv('Modeling/comparer.csv',index=False)"
   ]
  },
  {
   "cell_type": "code",
   "execution_count": null,
   "metadata": {},
   "outputs": [],
   "source": []
  }
 ],
 "metadata": {
  "kernelspec": {
   "display_name": "Python 3",
   "language": "python",
   "name": "python3"
  },
  "language_info": {
   "codemirror_mode": {
    "name": "ipython",
    "version": 3
   },
   "file_extension": ".py",
   "mimetype": "text/x-python",
   "name": "python",
   "nbconvert_exporter": "python",
   "pygments_lexer": "ipython3",
   "version": "3.7.0"
  }
 },
 "nbformat": 4,
 "nbformat_minor": 4
}
